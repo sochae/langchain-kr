{
 "cells": [
  {
   "cell_type": "markdown",
   "metadata": {},
   "source": [
    "### 캐싱(Caching)"
   ]
  },
  {
   "cell_type": "code",
   "execution_count": 1,
   "metadata": {},
   "outputs": [
    {
     "data": {
      "text/plain": [
       "True"
      ]
     },
     "execution_count": 1,
     "metadata": {},
     "output_type": "execute_result"
    }
   ],
   "source": [
    "from dotenv import load_dotenv\n",
    "\n",
    "load_dotenv()"
   ]
  },
  {
   "cell_type": "code",
   "execution_count": 2,
   "metadata": {},
   "outputs": [
    {
     "name": "stdout",
     "output_type": "stream",
     "text": [
      "LangSmith 추적을 시작합니다.\n",
      "[프로젝트명]\n",
      "edu-CH04-Modes\n"
     ]
    }
   ],
   "source": [
    "from langchain_teddynote import logging\n",
    "\n",
    "logging.langsmith(\"edu-CH04-Modes\")"
   ]
  },
  {
   "cell_type": "code",
   "execution_count": 4,
   "metadata": {},
   "outputs": [],
   "source": [
    "from langchain_openai import ChatOpenAI\n",
    "from langchain_core.prompts import PromptTemplate\n",
    "\n",
    "# 모델 생성\n",
    "llm = ChatOpenAI(model_name=\"gpt-4o-mini\")\n",
    "\n",
    "# 프롬프트 생성\n",
    "prompt = PromptTemplate.from_template(\"{country} 에 대해서 200자 내외로 요약해줘\")\n",
    "\n",
    "# 체인 생성\n",
    "chain = prompt | llm "
   ]
  },
  {
   "cell_type": "code",
   "execution_count": 5,
   "metadata": {},
   "outputs": [
    {
     "name": "stdout",
     "output_type": "stream",
     "text": [
      "한국은 동아시아에 위치한 반도 국가로, 한반도와 여러 주변 섬들로 이루어져 있습니다. 서울을 수도로 하며, 풍부한 역사와 문화를 지니고 있습니다. 전통과 현대가 조화를 이루며, K-POP, 드라마 등의 한류 콘텐츠가 세계적으로 인기를 끌고 있습니다. 경제적으로는 기술과 제조업이 강세를 보이며, 삼성, 현대와 같은 글로벌 기업이 있습니다. 또한, 맛있는 음식과 아름다운 자연경관도 특징입니다.\n",
      "CPU times: total: 78.1 ms\n",
      "Wall time: 7.64 s\n"
     ]
    }
   ],
   "source": [
    "%%time \n",
    "response = chain.invoke({\"country\": \"한국\"})\n",
    "print(response.content)"
   ]
  },
  {
   "cell_type": "markdown",
   "metadata": {},
   "source": [
    "### InMemoryCache (휘발성)"
   ]
  },
  {
   "cell_type": "code",
   "execution_count": 6,
   "metadata": {},
   "outputs": [
    {
     "name": "stdout",
     "output_type": "stream",
     "text": [
      "한국은 동아시아에 위치한 나라로, 한반도의 남쪽에 자리하고 있습니다. 대한민국(한국)은 민주주의 국가이며, 경제적으로는 첨단 산업과 IT 분야에서 세계적인 경쟁력을 갖추고 있습니다. 전통문화와 현대문화가 공존하며, K-POP, 한식, 한국 드라마 등이 글로벌 인기를 끌고 있습니다. 또한, 자연경관이 아름다워 관광명소가 많고, 교육 수준이 높아 인재 양성이 활발합니다.\n",
      "CPU times: total: 266 ms\n",
      "Wall time: 2.46 s\n"
     ]
    }
   ],
   "source": [
    "%%time\n",
    "from langchain.globals import set_llm_cache\n",
    "from langchain.cache import InMemoryCache\n",
    "\n",
    "# 인메모리 캐시 사용 \n",
    "set_llm_cache(InMemoryCache())\n",
    "\n",
    "# 체인 생성\n",
    "response = chain.invoke({\"country\": \"한국\"})\n",
    "print(response.content)"
   ]
  },
  {
   "cell_type": "code",
   "execution_count": null,
   "metadata": {},
   "outputs": [
    {
     "name": "stdout",
     "output_type": "stream",
     "text": [
      "한국은 동아시아에 위치한 나라로, 한반도의 남쪽에 자리하고 있습니다. 대한민국(한국)은 민주주의 국가이며, 경제적으로는 첨단 산업과 IT 분야에서 세계적인 경쟁력을 갖추고 있습니다. 전통문화와 현대문화가 공존하며, K-POP, 한식, 한국 드라마 등이 글로벌 인기를 끌고 있습니다. 또한, 자연경관이 아름다워 관광명소가 많고, 교육 수준이 높아 인재 양성이 활발합니다.\n",
      "CPU times: total: 0 ns\n",
      "Wall time: 3.66 ms\n"
     ]
    }
   ],
   "source": [
    "%%time\n",
    "# 체인 생성\n",
    "response = chain.invoke({\"country\": \"한국\"})\n",
    "print(response.content)"
   ]
  },
  {
   "cell_type": "markdown",
   "metadata": {},
   "source": [
    "### SQLite Cache"
   ]
  },
  {
   "cell_type": "code",
   "execution_count": 8,
   "metadata": {},
   "outputs": [],
   "source": [
    "from langchain_community.cache import SQLiteCache\n",
    "from langchain_core.globals import set_llm_cache\n",
    "import os \n",
    "\n",
    "# 캐시 디렉토리 생성 \n",
    "if not os.path.exists(\"cache\"):\n",
    "    os.makedirs(\"cache\")\n",
    "\n",
    "# SQLiteCache 사용\n",
    "set_llm_cache(SQLiteCache(database_path=\"cache/llm_cache.db\"))"
   ]
  },
  {
   "cell_type": "code",
   "execution_count": 10,
   "metadata": {},
   "outputs": [
    {
     "name": "stdout",
     "output_type": "stream",
     "text": [
      "한국은 동아시아에 위치한 한반도에 있는 국가로, 남북으로 나뉘어 있다. 남한은 민주주의 체제로 경제적으로 발전한 나라이며, 기술과 문화가 세계적으로 영향력 있다. 북한국은 사회주의 정권으로, 경제적 어려움이 있다. 한국은 전통과 현대가 조화로운 문화, 한류로 알려진 대중문화로 주목받고 있다. 한국의 전통 음식, 예술, 역사적 유적지 또한 풍부하다.\n",
      "CPU times: total: 0 ns\n",
      "Wall time: 3 ms\n"
     ]
    }
   ],
   "source": [
    "%%time\n",
    "# 체인 생성\n",
    "response = chain.invoke({\"country\": \"한국\"})\n",
    "print(response.content)"
   ]
  }
 ],
 "metadata": {
  "kernelspec": {
   "display_name": "langchain-kr-UwKF-Wpu-py3.11",
   "language": "python",
   "name": "python3"
  },
  "language_info": {
   "codemirror_mode": {
    "name": "ipython",
    "version": 3
   },
   "file_extension": ".py",
   "mimetype": "text/x-python",
   "name": "python",
   "nbconvert_exporter": "python",
   "pygments_lexer": "ipython3",
   "version": "3.11.9"
  }
 },
 "nbformat": 4,
 "nbformat_minor": 2
}
