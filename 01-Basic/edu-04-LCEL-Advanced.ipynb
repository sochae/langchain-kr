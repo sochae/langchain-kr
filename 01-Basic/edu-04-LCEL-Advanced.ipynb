{
 "cells": [
  {
   "cell_type": "markdown",
   "metadata": {},
   "source": [
    "### LCEL 인터페이스\n",
    "\n",
    "`Runnable` 프로토콜"
   ]
  },
  {
   "cell_type": "code",
   "execution_count": null,
   "metadata": {},
   "outputs": [
    {
     "data": {
      "text/plain": [
       "True"
      ]
     },
     "execution_count": 1,
     "metadata": {},
     "output_type": "execute_result"
    }
   ],
   "source": [
    "from dotenv import load_dotenv\n",
    "\n",
    "load_dotenv()"
   ]
  },
  {
   "cell_type": "code",
   "execution_count": null,
   "metadata": {},
   "outputs": [
    {
     "name": "stdout",
     "output_type": "stream",
     "text": [
      "LangSmith 추적을 시작합니다.\n",
      "[프로젝트명]\n",
      "edu-CH01-Basic\n"
     ]
    }
   ],
   "source": [
    "from langchain_teddynote import logging\n",
    "\n",
    "logging.langsmith(\"edu-CH01-Basic\")"
   ]
  },
  {
   "cell_type": "markdown",
   "metadata": {},
   "source": [
    "LCEL 문법을 사용하여 chain을 생성"
   ]
  },
  {
   "cell_type": "code",
   "execution_count": null,
   "metadata": {},
   "outputs": [],
   "source": [
    "from langchain_openai import ChatOpenAI\n",
    "from langchain_core.prompts import PromptTemplate\n",
    "from langchain_core.output_parsers import StrOutputParser\n",
    "\n",
    "# ChatOpenAI 모델을 인스턴스화\n",
    "model = ChatOpenAI()\n",
    "\n",
    "# 프롬프트 템플릿 생성\n",
    "prompt = PromptTemplate.from_template(\"{topic}에 대하여 3문장으로 설명해줘.\")\n",
    "\n",
    "# 프롬프트와 모델을 연결하여 대화 체인을 생성\n",
    "chain = prompt | model | StrOutputParser()"
   ]
  },
  {
   "cell_type": "code",
   "execution_count": 4,
   "metadata": {},
   "outputs": [
    {
     "data": {
      "text/plain": [
       "PromptTemplate(input_variables=['topic'], input_types={}, partial_variables={}, template='{topic}에 대하여 3문장으로 설명해줘.')\n",
       "| ChatOpenAI(client=<openai.resources.chat.completions.completions.Completions object at 0x000001CD9F4AEC10>, async_client=<openai.resources.chat.completions.completions.AsyncCompletions object at 0x000001CDFF5924D0>, root_client=<openai.OpenAI object at 0x000001CD9E0B2390>, root_async_client=<openai.AsyncOpenAI object at 0x000001CD9F5A8550>, model_kwargs={}, openai_api_key=SecretStr('**********'))\n",
       "| StrOutputParser()"
      ]
     },
     "execution_count": 4,
     "metadata": {},
     "output_type": "execute_result"
    }
   ],
   "source": [
    "chain"
   ]
  },
  {
   "cell_type": "markdown",
   "metadata": {},
   "source": [
    "### stream: 실시간 출력"
   ]
  },
  {
   "cell_type": "code",
   "execution_count": 5,
   "metadata": {},
   "outputs": [
    {
     "name": "stdout",
     "output_type": "stream",
     "text": [
      "멀티모달은 여러 가지 형태의 다양한 정보를 조합하여 제공하는 시스템이다. 이는 텍스트, 음성, 이미지, 동영상 등 다양한 형식의 입력을 받아들여 다양한 방식으로 정보를 제공하고 상호작용하는 기술이다. 멀티모달 시스템은 사용자 경험을 향상시키고 보다 유연한 상호작용이 가능하도록 돕는다."
     ]
    }
   ],
   "source": [
    "# chain.stream 메서드를 사용하여 '멀티모달' 토픽에 대한 스트림을 생성하고 반복\n",
    "for token in chain.stream({\"topic\": \"멀티모달\"}):\n",
    "    # 스트림에서 받은 데이터의 내용 출력. 줄바꿈 없이 이어서 출력하고 버퍼를 즉시 비움\n",
    "    print(token, end=\"\", flush=True)"
   ]
  },
  {
   "cell_type": "markdown",
   "metadata": {},
   "source": [
    "### invoke: 호출"
   ]
  },
  {
   "cell_type": "code",
   "execution_count": 6,
   "metadata": {},
   "outputs": [
    {
     "data": {
      "text/plain": [
       "'ChatGPT는 자연어 처리와 기계 학습 기술을 이용하여 자연스러운 대화를 제공하는 인공 지능 챗봇이다. 사용자의 질문과 요청에 빠르고 정확한 답변을 제공하여 상호 작용할 수 있도록 돕는다. ChatGPT는 다양한 주제와 언어에 대해 대화를 지원하며, 학습과 발전을 통해 사용자의 요구에 맞게 개선된 대화 능력을 보여준다.'"
      ]
     },
     "execution_count": 6,
     "metadata": {},
     "output_type": "execute_result"
    }
   ],
   "source": [
    "# chain 객체의 invoke 메서드를 호출하고, 'ChatGPT'라는 주제로 딕셔너리 전달\n",
    "chain.invoke({\"topic\": \"ChatGPT\"})"
   ]
  },
  {
   "cell_type": "markdown",
   "metadata": {},
   "source": [
    "### batch: 배치 (단위 실행)"
   ]
  },
  {
   "cell_type": "code",
   "execution_count": null,
   "metadata": {},
   "outputs": [
    {
     "data": {
      "text/plain": [
       "['ChatGPT는 인공지능 챗봇으로 자연어 처리 기술을 사용하여 대화를 이어나가는 서비스이다. 사용자들은 ChatGPT를 통해 질문에 대한 답변이나 정보를 얻을 수 있으며, 다양한 주제에 대해 대화할 수 있다. ChatGPT는 학습을 통해 계속 발전하고 사용자와의 대화를 통해 더욱 더 발전해 나가고 있다.',\n",
       " 'Instagram은 사진과 동영상을 공유하고 다른 사람들과 소통하는 소셜 미디어 플랫폼이다. 유명인들, 브랜드, 일반 사용자들이 콘텐츠를 올려 공유하며 팔로워들과 소통한다. 해시태그를 이용하여 같은 주제나 관심사를 가진 사람들끼리 소통하고 커뮤니티를 형성할 수 있다.']"
      ]
     },
     "execution_count": 7,
     "metadata": {},
     "output_type": "execute_result"
    }
   ],
   "source": [
    "# 주어진 토픽 리스트를 batch 처리하는 함수 호출\n",
    "chain.batch([{\"topic\": \"ChatGPT\"}, {\"topic\": \"Instagram\"}])"
   ]
  },
  {
   "cell_type": "code",
   "execution_count": null,
   "metadata": {},
   "outputs": [
    {
     "data": {
      "text/plain": [
       "['ChatGPT는 자연어 처리 기술을 이용하여 사람과 대화하는 인공지능 챗봇입니다. 사용자의 질문과 대화를 이해하고 적절한 답변을 생성하여 대화를 이어나갈 수 있습니다. ChatGPT는 다양한 주제에 대해 대화할 수 있어 편리하고 실용적인 도구로 활용됩니다.',\n",
       " 'Instagram은 사진과 동영상을 공유하는 소셜 미디어 플랫폼으로, 사용자들은 자신의 일상을 다양한 필터와 효과로 꾸며 공유할 수 있다. 또한 팔로잉하는 다른 사용자의 포스트를 보고 댓글이나 좋아요를 남길 수 있으며, 스토리와 라이브 방송으로 더 가까운 소통이 가능하다. 인기 있는 해시태그를 활용하여 자신의 포스트를 더 많은 사람들과 공유할 수 있다.',\n",
       " '멀티모달은 여러 가지 다른 형태의 입력 및 출력 방식을 조합하여 사용자와 상호작용하는 시스템이다. 예를 들어 음성, 텍스트, 그래픽, 터치 등 다양한 형태의 인터페이스를 함께 사용할 수 있다. 멀티모달은 사용자 경험을 향상시키고 효율적인 상호작용을 가능하게 한다.',\n",
       " '프로그래밍은 컴퓨터에게 작업을 시키기 위해 사람이 사용하는 언어를 의미합니다. 코드를 작성하여 특정 작업을 수행하거나 문제를 해결하는 것이 프로그래밍의 주요 목적입니다. 프로그래밍을 배우면 논리적으로 사고할 수 있는 능력이 향상되고 창의적인 문제 해결 능력을 기를 수 있습니다.',\n",
       " '머신러닝은 컴퓨터가 데이터를 분석하여 패턴을 학습하고 예측하는 인공지능 기술이다. 이를 통해 머신러닝 알고리즘은 경향성을 파악하고 모델을 개선하여 정확한 결과를 도출할 수 있다. 머신러닝은 이미지 및 음성 인식, 추천 시스템, 자율주행 자동차 등 다양한 분야에서 활발히 활용되고 있다.']"
      ]
     },
     "execution_count": 8,
     "metadata": {},
     "output_type": "execute_result"
    }
   ],
   "source": [
    "chain.batch(\n",
    "    [\n",
    "        {\"topic\": \"ChatGPT\"},\n",
    "        {\"topic\": \"Instagram\"},\n",
    "        {\"topic\": \"멀티모달\"},\n",
    "        {\"topic\": \"프로그래밍\"},\n",
    "        {\"topic\": \"머신러닝\"},\n",
    "    ],\n",
    "    config={\"max_concurrency\": 3},  # max_concurrency 동시 요청 수\n",
    ")"
   ]
  },
  {
   "cell_type": "markdown",
   "metadata": {},
   "source": [
    "### async stream: 비동기 스트림"
   ]
  },
  {
   "cell_type": "code",
   "execution_count": null,
   "metadata": {},
   "outputs": [
    {
     "name": "stdout",
     "output_type": "stream",
     "text": [
      "YouTube는 동영상 공유 플랫폼으로 사용자들이 자신의 동영상을 업로드하고 시청할 수 있는 서비스다. 다양한 주제의 동영상 컨텐츠를 제공하며 시청자들은 댓글을 남기고 구독할 수 있다. 크리에이터들은 광고수익을 창출할 수 있어 인기 있는 온라인 비즈니스 플랫폼으로 자리잡았다."
     ]
    }
   ],
   "source": [
    "# 비동기 스트림을 사용하여 'YouTube\" 토픽의 메시지를 처리\n",
    "async for token in chain.astream({\"topic\": \"YouTube\"}):\n",
    "    print(token, end=\"\", flush=True)"
   ]
  },
  {
   "cell_type": "markdown",
   "metadata": {},
   "source": [
    "### async invoke: 비동기 호출"
   ]
  },
  {
   "cell_type": "code",
   "execution_count": null,
   "metadata": {},
   "outputs": [],
   "source": [
    "# 비동기 체인 객체의 'ainvoke' 메서드를 호출하여 'NVDA' 토픽을 처리\n",
    "my_process = chain.ainvoke({\"topic\": \"NVDA\"})"
   ]
  },
  {
   "cell_type": "code",
   "execution_count": 12,
   "metadata": {},
   "outputs": [
    {
     "data": {
      "text/plain": [
       "'NVDA는 미국의 기업으로서 시각 장애인을 위한 스크린 리더 및 음성 출력 프로그램을 개발하고 있다. 이 프로그램은 시각 장애인이 컴퓨터를 자유롭게 사용할 수 있도록 도와준다. NVDA는 무료로 제공되는 오픈 소스 소프트웨어로, 전 세계적으로 많은 사용자들에게 사랑을 받고 있다.'"
      ]
     },
     "execution_count": 12,
     "metadata": {},
     "output_type": "execute_result"
    }
   ],
   "source": [
    "# 비동기로 처리되는 프로세스가 완료될 때까지 기다림\n",
    "await my_process"
   ]
  },
  {
   "cell_type": "markdown",
   "metadata": {},
   "source": [
    "### async batch: 비동기 배치 "
   ]
  },
  {
   "cell_type": "code",
   "execution_count": null,
   "metadata": {},
   "outputs": [],
   "source": [
    "my_abatch_process = chain.abatch(\n",
    "    [{\"topic\": \"YouTube\"}, {\"topic\": \"Instagram\"}, {\"topic\": \"Facebook\"}]\n",
    ")"
   ]
  },
  {
   "cell_type": "code",
   "execution_count": 14,
   "metadata": {},
   "outputs": [
    {
     "data": {
      "text/plain": [
       "['YouTube는 동영상을 업로드하고 시청할 수 있는 온라인 동영상 공유 플랫폼이다. 사용자들은 다양한 주제의 동영상을 업로드하고 시청하며, 댓글을 통해 소통할 수 있다. 광고 수익을 창출할 수도 있어 크리에이터들에게 수익 창출의 기회를 제공한다.',\n",
       " 'Instagram은 사진과 동영상을 공유하는 소셜 미디어 플랫폼으로, 사용자들은 자신의 일상이나 취향을 시각적으로 나타낼 수 있습니다. 팔로워들과의 소통을 통해 콘텐츠를 홍보하고, 친구들과 소통하는 등 다양한 목적으로 사용됩니다. 또한 인플루언서나 브랜드들이 마케팅에 활용하는 플랫폼으로도 널리 이용됩니다.',\n",
       " 'Meta는 무엇인가를 설명하는 데 사용되는 정보의 정보를 나타낸다. 메타데이터는 데이터의 속성, 구조, 콘텍스트 및 기타 특징을 설명하는데 사용된다. 메타분석은 수집된 메타데이터를 분석하여 유용한 정보를 얻는 과정이다.']"
      ]
     },
     "execution_count": 14,
     "metadata": {},
     "output_type": "execute_result"
    }
   ],
   "source": [
    "await my_abatch_process"
   ]
  },
  {
   "cell_type": "markdown",
   "metadata": {},
   "source": [
    "### Parallel: 병렬성"
   ]
  },
  {
   "cell_type": "code",
   "execution_count": null,
   "metadata": {},
   "outputs": [],
   "source": [
    "from langchain_core.runnables import RunnableParallel\n",
    "\n",
    "# {country} 의 수도를 물어보는 체인을 생성\n",
    "chain1 = (\n",
    "    PromptTemplate.from_template(\"{country} 의 수도는 어디야?\")\n",
    "    | model\n",
    "    | StrOutputParser()\n",
    ")\n",
    "\n",
    "# {country} 의 면적을 물어보는 체인을 생성\n",
    "chain2 = (\n",
    "    PromptTemplate.from_template(\"{country} 의 면적은 얼마야?\")\n",
    "    | model\n",
    "    | StrOutputParser()\n",
    ")\n",
    "\n",
    "# 위의 2개 체인을 동시에 생성하는 병렬 실행 체인 생성\n",
    "combined = RunnableParallel(capital=chain1, area=chain2)"
   ]
  },
  {
   "cell_type": "code",
   "execution_count": 13,
   "metadata": {},
   "outputs": [
    {
     "data": {
      "text/plain": [
       "{'capital': '대한민국의 수도는 서울이다.', 'area': '대한민국의 총 면적은 약 100,363km² 입니다.'}"
      ]
     },
     "execution_count": 13,
     "metadata": {},
     "output_type": "execute_result"
    }
   ],
   "source": [
    "combined.invoke({\"country1\": \"대한민국\", \"country2\": \"대한민국\"})"
   ]
  },
  {
   "cell_type": "code",
   "execution_count": 7,
   "metadata": {},
   "outputs": [
    {
     "data": {
      "text/plain": [
       "'대한민국의 수도는 서울이다.'"
      ]
     },
     "execution_count": 7,
     "metadata": {},
     "output_type": "execute_result"
    }
   ],
   "source": [
    "# chain1 실행\n",
    "chain1.invoke({\"country\": \"대한민국\"})"
   ]
  },
  {
   "cell_type": "code",
   "execution_count": 8,
   "metadata": {},
   "outputs": [
    {
     "data": {
      "text/plain": [
       "'미국의 면적은 약 9,833,.5만 제곱킬로미터이다.'"
      ]
     },
     "execution_count": 8,
     "metadata": {},
     "output_type": "execute_result"
    }
   ],
   "source": [
    "# chain2 실행\n",
    "chain2.invoke({\"country\": \"미국\"})"
   ]
  },
  {
   "cell_type": "code",
   "execution_count": 9,
   "metadata": {},
   "outputs": [
    {
     "data": {
      "text/plain": [
       "{'capital': '대한민국의 수도는 서울입니다.', 'area': '대한민국의 면적은 약 **100,210km²** 입니다.'}"
      ]
     },
     "execution_count": 9,
     "metadata": {},
     "output_type": "execute_result"
    }
   ],
   "source": [
    "# 병렬 실행 체인을 실행\n",
    "combined.invoke({\"country\": \"대한민국\"})"
   ]
  },
  {
   "cell_type": "markdown",
   "metadata": {},
   "source": [
    "### 배치에서의 병렬 처리"
   ]
  },
  {
   "cell_type": "code",
   "execution_count": 15,
   "metadata": {},
   "outputs": [
    {
     "data": {
      "text/plain": [
       "['대한민국의 수도는 서울이야.', '미국의 수도는 워싱턴 D.C.입니다.']"
      ]
     },
     "execution_count": 15,
     "metadata": {},
     "output_type": "execute_result"
    }
   ],
   "source": [
    "# 배치 처리를 수행\n",
    "chain1.batch([{\"country\": \"대한민국\"}, {\"country\": \"미국\"}])"
   ]
  },
  {
   "cell_type": "code",
   "execution_count": 17,
   "metadata": {},
   "outputs": [
    {
     "data": {
      "text/plain": [
       "['대한민국의 면적은 약 100,363 제곱 킬로미터 입니다.', '미국의 면적은 약 9,834만 제곱킬로미터입니다.']"
      ]
     },
     "execution_count": 17,
     "metadata": {},
     "output_type": "execute_result"
    }
   ],
   "source": [
    "chain2.batch([{\"country\": \"대한민국\"}, {\"country\": \"미국\"}])"
   ]
  },
  {
   "cell_type": "code",
   "execution_count": 18,
   "metadata": {},
   "outputs": [
    {
     "data": {
      "text/plain": [
       "[{'capital': '대한민국의 수도는 서울이다.', 'area': '대한민국의 총 면적은 약 100,363.4km² 입니다.'},\n",
       " {'capital': '미국의 수도는 워싱턴 D.C.입니다.', 'area': '미국의 면적은 약 9,834,000 km² 입니다.'}]"
      ]
     },
     "execution_count": 18,
     "metadata": {},
     "output_type": "execute_result"
    }
   ],
   "source": [
    "combined.batch([{\"country\": \"대한민국\"}, {\"country\": \"미국\"}])"
   ]
  }
 ],
 "metadata": {
  "kernelspec": {
   "display_name": "langchain-kr-GLdDypgu-py3.11",
   "language": "python",
   "name": "python3"
  },
  "language_info": {
   "codemirror_mode": {
    "name": "ipython",
    "version": 3
   },
   "file_extension": ".py",
   "mimetype": "text/x-python",
   "name": "python",
   "nbconvert_exporter": "python",
   "pygments_lexer": "ipython3",
   "version": "3.11.11"
  }
 },
 "nbformat": 4,
 "nbformat_minor": 2
}
