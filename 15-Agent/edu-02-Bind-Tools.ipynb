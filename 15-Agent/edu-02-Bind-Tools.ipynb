{
 "cells": [
  {
   "cell_type": "markdown",
   "metadata": {},
   "source": [
    "### LLM Binding Tools"
   ]
  },
  {
   "cell_type": "code",
   "execution_count": null,
   "metadata": {},
   "outputs": [],
   "source": [
    "from dotenv import load_dotenv\n",
    "\n",
    "load_dotenv()"
   ]
  },
  {
   "cell_type": "code",
   "execution_count": 1,
   "metadata": {},
   "outputs": [
    {
     "name": "stdout",
     "output_type": "stream",
     "text": [
      "LangSmith 추적을 시작합니다.\n",
      "[프로젝트명]\n",
      "edu-CH15-Bind-Tools\n"
     ]
    }
   ],
   "source": [
    "from langchain_teddynote import logging\n",
    "\n",
    "logging.langsmith(\"edu-CH15-Bind-Tools\")"
   ]
  },
  {
   "cell_type": "markdown",
   "metadata": {},
   "source": [
    "### LLM에 바인딩할 Tool 정의 "
   ]
  },
  {
   "cell_type": "code",
   "execution_count": 2,
   "metadata": {},
   "outputs": [],
   "source": [
    "import re \n",
    "import requests\n",
    "from bs4 import BeautifulSoup\n",
    "from langchain.agents import tool\n",
    "\n",
    "# 도구 정의 \n",
    "@tool \n",
    "def get_word_length(word: str) -> int:\n",
    "    \"\"\"Returns the length of a word.\"\"\"\n",
    "    return len(word)\n",
    "\n",
    "@tool \n",
    "def add_function(a: float, b: float) -> float:\n",
    "    \"\"\"Adds two numbers together.\"\"\"\n",
    "    return a + b\n",
    "\n",
    "@tool \n",
    "def naver_new_crawl(news_url: str) -> str:\n",
    "    \"\"\"Crawls a 네이버 (naver.com) news article and returns the body content.\"\"\"\n",
    "    response = requests.get(news_url)\n",
    "    \n",
    "    if response.status_code == 200:\n",
    "        soup = BeautifulSoup(response.text, \"html.parser\")\n",
    "        \n",
    "        title = soup.find(\"h2\", id=\"title_area\").get_text()\n",
    "        content = soup.find(\"div\", id=\"contents\").get_text()\n",
    "        cleaned_title = re.sub(r\"\\n{2,}\", \"\\n\", title)\n",
    "        cleaned_content = re.sub(r\"\\n{2,}\", \"\\n\", content)\n",
    "    else:\n",
    "        print(f\"HTTP 요청 실패. 응답 코드: {response.status_code}\")\n",
    "\n",
    "tools = [get_word_length, add_function, naver_new_crawl]"
   ]
  },
  {
   "cell_type": "markdown",
   "metadata": {},
   "source": [
    "### bind_tools()로 LLM에 도구 바인딩 "
   ]
  },
  {
   "cell_type": "code",
   "execution_count": 17,
   "metadata": {},
   "outputs": [],
   "source": [
    "from langchain_openai import ChatOpenAI\n",
    "\n",
    "llm = ChatOpenAI(model=\"gpt-4o-mini\", temperature=0)\n",
    "\n",
    "llm_with_tools = llm.bind_tools(tools)"
   ]
  },
  {
   "cell_type": "code",
   "execution_count": 18,
   "metadata": {},
   "outputs": [
    {
     "data": {
      "text/plain": [
       "[{'name': 'get_word_length',\n",
       "  'args': {'word': 'teddynote'},\n",
       "  'id': 'call_PPrWIABQTsnEWLnV2c2ATpdc',\n",
       "  'type': 'tool_call'}]"
      ]
     },
     "execution_count": 18,
     "metadata": {},
     "output_type": "execute_result"
    }
   ],
   "source": [
    "question = \"What is the length of the word 'teddynote'?\"\n",
    "llm_with_tools.invoke(question).tool_calls"
   ]
  },
  {
   "cell_type": "code",
   "execution_count": 19,
   "metadata": {},
   "outputs": [],
   "source": [
    "from langchain_core.output_parsers.openai_tools import JsonOutputToolsParser\n",
    "\n",
    "# 도구 바인디 + 도구 파서 \n",
    "chain = llm_with_tools | JsonOutputToolsParser(tool=tools)\n",
    "\n",
    "tool_call_results = chain.invoke(question)"
   ]
  },
  {
   "cell_type": "code",
   "execution_count": 20,
   "metadata": {},
   "outputs": [
    {
     "name": "stdout",
     "output_type": "stream",
     "text": [
      "[{'args': {'word': 'teddynote'}, 'type': 'get_word_length'}]\n"
     ]
    }
   ],
   "source": [
    "print(tool_call_results)"
   ]
  },
  {
   "cell_type": "code",
   "execution_count": 21,
   "metadata": {},
   "outputs": [
    {
     "name": "stdout",
     "output_type": "stream",
     "text": [
      "[{'args': {'word': 'teddynote'}, 'type': 'get_word_length'}]\n",
      "\n",
      "==========\n",
      "\n",
      "get_word_length\n",
      "{'word': 'teddynote'}\n"
     ]
    }
   ],
   "source": [
    "print(tool_call_result, end=\"\\n\\n==========\\n\\n\")\n",
    "single_result = tool_call_results[0]\n",
    "# 도구 이름\n",
    "print(single_result[\"type\"])\n",
    "# 도구 인자\n",
    "print(single_result[\"args\"])"
   ]
  },
  {
   "cell_type": "code",
   "execution_count": 22,
   "metadata": {},
   "outputs": [
    {
     "data": {
      "text/plain": [
       "[StructuredTool(name='get_word_length', description='Returns the length of a word.', args_schema=<class 'langchain_core.utils.pydantic.get_word_length'>, func=<function get_word_length at 0x00000154B22C7560>),\n",
       " StructuredTool(name='add_function', description='Adds two numbers together.', args_schema=<class 'langchain_core.utils.pydantic.add_function'>, func=<function add_function at 0x00000154B228F060>),\n",
       " StructuredTool(name='naver_new_crawl', description='Crawls a 네이버 (naver.com) news article and returns the body content.', args_schema=<class 'langchain_core.utils.pydantic.naver_new_crawl'>, func=<function naver_new_crawl at 0x00000154B22C6DE0>)]"
      ]
     },
     "execution_count": 22,
     "metadata": {},
     "output_type": "execute_result"
    }
   ],
   "source": [
    "tools"
   ]
  },
  {
   "cell_type": "code",
   "execution_count": 23,
   "metadata": {},
   "outputs": [
    {
     "data": {
      "text/plain": [
       "('get_word_length', 'get_word_length')"
      ]
     },
     "execution_count": 23,
     "metadata": {},
     "output_type": "execute_result"
    }
   ],
   "source": [
    "tool_call_results[0][\"type\"], tools[0].name"
   ]
  },
  {
   "cell_type": "code",
   "execution_count": 25,
   "metadata": {},
   "outputs": [
    {
     "name": "stdout",
     "output_type": "stream",
     "text": [
      "[실행도구] get_word_length [Argument] {'word': 'teddynote'}\n",
      "[실행결과] 9\n"
     ]
    }
   ],
   "source": [
    "def execute_tool_calls(tool_call_results):\n",
    "    \"\"\"\n",
    "    도구 호출 결과를 실행하는 함수\n",
    "\n",
    "    :param tool_call_results: 도구 호출 결과 리스트\n",
    "    :param tools: 사용 가능한 도구 리스트\n",
    "    \"\"\"\n",
    "    \n",
    "    for tool_call_result in tool_call_results:\n",
    "        tool_name = tool_call_result[\"type\"]  # 도구의 이름(함수명)\n",
    "        tool_args = tool_call_result[\"args\"]  # 도구에 전달되는 인자\n",
    "\n",
    "        matching_tool = next((tool for tool in tools if tool.name == tool_name), None)\n",
    "\n",
    "        if matching_tool:\n",
    "            result = matching_tool.invoke(tool_args)\n",
    "            print(f\"[실행도구] {tool_name} [Argument] {tool_args}\\n[실행결과] {result}\")\n",
    "        else:\n",
    "            print(f\"경고: {tool_name}에 해당하는 도구를 찾을 수 없습니다.\")\n",
    "\n",
    "execute_tool_calls(tool_call_results)"
   ]
  },
  {
   "cell_type": "markdown",
   "metadata": {},
   "source": [
    "### bind_tools + Parser + Execution"
   ]
  },
  {
   "cell_type": "code",
   "execution_count": 26,
   "metadata": {},
   "outputs": [],
   "source": [
    "from langchain_core.output_parsers.openai_tools import JsonOutputToolsParser\n",
    "\n",
    "chain = llm_with_tools | JsonOutputToolsParser(tools=tools) | execute_tool_calls"
   ]
  },
  {
   "cell_type": "code",
   "execution_count": 27,
   "metadata": {},
   "outputs": [
    {
     "name": "stdout",
     "output_type": "stream",
     "text": [
      "[실행도구] get_word_length [Argument] {'word': 'teddynote'}\n",
      "[실행결과] 9\n"
     ]
    }
   ],
   "source": [
    "chain.invoke(question)"
   ]
  },
  {
   "cell_type": "code",
   "execution_count": 28,
   "metadata": {},
   "outputs": [
    {
     "name": "stdout",
     "output_type": "stream",
     "text": [
      "[실행도구] add_function [Argument] {'a': 114.5, 'b': 121.2}\n",
      "[실행결과] 235.7\n"
     ]
    }
   ],
   "source": [
    "chain.invoke(\"114.5 + 121.2\")"
   ]
  },
  {
   "cell_type": "code",
   "execution_count": 29,
   "metadata": {},
   "outputs": [
    {
     "name": "stdout",
     "output_type": "stream",
     "text": [
      "[실행도구] naver_new_crawl [Argument] {'news_url': 'https://n.news.naver.com/mnews/hotissue/article/092/0002347672?type=series&cid=2000065'}\n",
      "[실행결과] None\n"
     ]
    }
   ],
   "source": [
    "chain.invoke(\n",
    "    \"뉴스 기사 내용을 크롤링해줘: https://n.news.naver.com/mnews/hotissue/article/092/0002347672?type=series&cid=2000065\"\n",
    ")"
   ]
  },
  {
   "cell_type": "markdown",
   "metadata": {},
   "source": [
    "### bind_tools > Agent & AgentExecutor로 대체"
   ]
  },
  {
   "cell_type": "code",
   "execution_count": 30,
   "metadata": {},
   "outputs": [],
   "source": [
    "from langchain_core.prompts import ChatPromptTemplate, MessagesPlaceholder\n",
    "from langchain_openai import ChatOpenAI\n",
    "\n",
    "prompt = ChatPromptTemplate.from_messages(\n",
    "    [\n",
    "        (\"system\", \"You are very powerful assistant, but don't know current events\",),\n",
    "        (\"human\", \"{input}\"),\n",
    "        MessagesPlaceholder(variable_name=\"agent_scratchpad\")\n",
    "    ]\n",
    ")\n",
    "\n",
    "llm = ChatOpenAI(model=\"gpt-4o-mini\", temperature=0)"
   ]
  },
  {
   "cell_type": "code",
   "execution_count": 31,
   "metadata": {},
   "outputs": [],
   "source": [
    "from langchain.agents import create_tool_calling_agent\n",
    "from langchain.agents import AgentExecutor\n",
    "\n",
    "tools = [get_word_length, add_function, naver_new_crawl]\n",
    "\n",
    "agent = create_tool_calling_agent(llm, tools, prompt)\n",
    "\n",
    "agent_executor = AgentExecutor(\n",
    "    agent=agent,\n",
    "    tools=tools,\n",
    "    verbose=True,\n",
    "    handle_parsing_errors=True\n",
    ")"
   ]
  },
  {
   "cell_type": "code",
   "execution_count": 32,
   "metadata": {},
   "outputs": [
    {
     "name": "stdout",
     "output_type": "stream",
     "text": [
      "\n",
      "\n",
      "\u001b[1m> Entering new AgentExecutor chain...\u001b[0m\n",
      "\u001b[32;1m\u001b[1;3m\n",
      "Invoking: `get_word_length` with `{'word': 'teddynote'}`\n",
      "\n",
      "\n",
      "\u001b[0m\u001b[36;1m\u001b[1;3m9\u001b[0m\u001b[32;1m\u001b[1;3mThe length of the word 'teddynote' is 9.\u001b[0m\n",
      "\n",
      "\u001b[1m> Finished chain.\u001b[0m\n",
      "The length of the word 'teddynote' is 9.\n"
     ]
    }
   ],
   "source": [
    "result = agent_executor.invoke({\"input\": question})\n",
    "print(result[\"output\"])"
   ]
  },
  {
   "cell_type": "code",
   "execution_count": 33,
   "metadata": {},
   "outputs": [
    {
     "name": "stdout",
     "output_type": "stream",
     "text": [
      "\n",
      "\n",
      "\u001b[1m> Entering new AgentExecutor chain...\u001b[0m\n",
      "\u001b[32;1m\u001b[1;3m\n",
      "Invoking: `add_function` with `{'a': 114.5, 'b': 121.2}`\n",
      "\n",
      "\n",
      "\u001b[0m\u001b[33;1m\u001b[1;3m235.7\u001b[0m\u001b[32;1m\u001b[1;3m114.5 + 121.2의 계산 결과는 235.7입니다.\u001b[0m\n",
      "\n",
      "\u001b[1m> Finished chain.\u001b[0m\n",
      "114.5 + 121.2의 계산 결과는 235.7입니다.\n"
     ]
    }
   ],
   "source": [
    "result = agent_executor.invoke({\"input\": \"114.5 + 121.2 의 계산 결과는?\"})\n",
    "\n",
    "# 결과 확인\n",
    "print(result[\"output\"])"
   ]
  },
  {
   "cell_type": "code",
   "execution_count": 34,
   "metadata": {},
   "outputs": [
    {
     "name": "stdout",
     "output_type": "stream",
     "text": [
      "\n",
      "\n",
      "\u001b[1m> Entering new AgentExecutor chain...\u001b[0m\n",
      "\u001b[32;1m\u001b[1;3m\n",
      "Invoking: `add_function` with `{'a': 114.5, 'b': 121.2}`\n",
      "\n",
      "\n",
      "\u001b[0m\u001b[33;1m\u001b[1;3m235.7\u001b[0m\u001b[32;1m\u001b[1;3m\n",
      "Invoking: `add_function` with `{'a': 34.2, 'b': 110.1}`\n",
      "\n",
      "\n",
      "\u001b[0m\u001b[33;1m\u001b[1;3m144.3\u001b[0m\u001b[32;1m\u001b[1;3m\n",
      "Invoking: `add_function` with `{'a': 235.7, 'b': 144.3}`\n",
      "\n",
      "\n",
      "\u001b[0m\u001b[33;1m\u001b[1;3m380.0\u001b[0m\u001b[32;1m\u001b[1;3m114.5 + 121.2 + 34.2 + 110.1의 계산 결과는 380.0입니다.\u001b[0m\n",
      "\n",
      "\u001b[1m> Finished chain.\u001b[0m\n",
      "114.5 + 121.2 + 34.2 + 110.1의 계산 결과는 380.0입니다.\n",
      "==========\n",
      "\n",
      "380.0\n"
     ]
    }
   ],
   "source": [
    "result = agent_executor.invoke(\n",
    "    {\"input\": \"114.5 + 121.2 + 34.2 + 110.1 의 계산 결과는?\"}\n",
    ")\n",
    "\n",
    "# 결과 확인\n",
    "print(result[\"output\"])\n",
    "print(\"==========\\n\")\n",
    "print(114.5 + 121.2 + 34.2 + 110.1)"
   ]
  },
  {
   "cell_type": "code",
   "execution_count": 35,
   "metadata": {},
   "outputs": [
    {
     "name": "stdout",
     "output_type": "stream",
     "text": [
      "\n",
      "\n",
      "\u001b[1m> Entering new AgentExecutor chain...\u001b[0m\n",
      "\u001b[32;1m\u001b[1;3m\n",
      "Invoking: `naver_new_crawl` with `{'news_url': 'https://n.news.naver.com/mnews/hotissue/article/092/0002347672?type=series&cid=2000065'}`\n",
      "\n",
      "\n",
      "\u001b[0m\u001b[38;5;200m\u001b[1;3mNone\u001b[0m\u001b[32;1m\u001b[1;3m뉴스 기사를 가져오는 데 실패했습니다. 다른 방법으로 도와드릴까요?\u001b[0m\n",
      "\n",
      "\u001b[1m> Finished chain.\u001b[0m\n",
      "뉴스 기사를 가져오는 데 실패했습니다. 다른 방법으로 도와드릴까요?\n"
     ]
    }
   ],
   "source": [
    "result = agent_executor.invoke(\n",
    "    {\n",
    "        \"input\": \"뉴스 기사를 요약해 줘: https://n.news.naver.com/mnews/hotissue/article/092/0002347672?type=series&cid=2000065\"\n",
    "    }\n",
    ")\n",
    "print(result[\"output\"])"
   ]
  }
 ],
 "metadata": {
  "kernelspec": {
   "display_name": "langchain-kr-UwKF-Wpu-py3.11",
   "language": "python",
   "name": "python3"
  },
  "language_info": {
   "codemirror_mode": {
    "name": "ipython",
    "version": 3
   },
   "file_extension": ".py",
   "mimetype": "text/x-python",
   "name": "python",
   "nbconvert_exporter": "python",
   "pygments_lexer": "ipython3",
   "version": "3.11.9"
  }
 },
 "nbformat": 4,
 "nbformat_minor": 2
}
